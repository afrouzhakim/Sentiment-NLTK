{
 "cells": [
  {
   "cell_type": "code",
   "execution_count": null,
   "id": "8b399e19",
   "metadata": {},
   "outputs": [],
   "source": [
    "#Sentiment Analysis: First Steps With Python's NLTK Library"
   ]
  },
  {
   "cell_type": "code",
   "execution_count": null,
   "id": "f650d08b",
   "metadata": {},
   "outputs": [
    {
     "name": "stdout",
     "output_type": "stream",
     "text": [
      "showing info https://raw.githubusercontent.com/nltk/nltk_data/gh-pages/index.xml\n"
     ]
    }
   ],
   "source": [
    "import nltk\n",
    "nltk.download()"
   ]
  },
  {
   "cell_type": "code",
   "execution_count": null,
   "id": "60c875cf",
   "metadata": {},
   "outputs": [],
   "source": [
    "nltk.download([\n",
    "...     \"names\",\n",
    "...     \"stopwords\",\n",
    "...     \"state_union\",\n",
    "...     \"twitter_samples\",\n",
    "...     \"movie_reviews\",\n",
    "...     \"averaged_perceptron_tagger\",\n",
    "...     \"vader_lexicon\",\n",
    "...     \"punkt\",\n",
    "... ])"
   ]
  },
  {
   "cell_type": "code",
   "execution_count": null,
   "id": "b74ccc10",
   "metadata": {},
   "outputs": [],
   "source": [
    "w = nltk.corpus.shakespeare.words()"
   ]
  },
  {
   "cell_type": "code",
   "execution_count": null,
   "id": "95658188",
   "metadata": {},
   "outputs": [],
   "source": [
    "print('test')"
   ]
  },
  {
   "cell_type": "code",
   "execution_count": null,
   "id": "2333ec8d",
   "metadata": {},
   "outputs": [],
   "source": []
  }
 ],
 "metadata": {
  "kernelspec": {
   "display_name": "Python 3 (ipykernel)",
   "language": "python",
   "name": "python3"
  },
  "language_info": {
   "codemirror_mode": {
    "name": "ipython",
    "version": 3
   },
   "file_extension": ".py",
   "mimetype": "text/x-python",
   "name": "python",
   "nbconvert_exporter": "python",
   "pygments_lexer": "ipython3",
   "version": "3.10.7"
  }
 },
 "nbformat": 4,
 "nbformat_minor": 5
}
